{
 "cells": [
  {
   "cell_type": "code",
   "execution_count": null,
   "metadata": {},
   "outputs": [],
   "source": [
    "def combination(n, k):\n",
    "    C = math.factorial(n) / (math.factorial(k) * math.factorial(n - k))\n",
    "    return C\n"
   ]
  },
  {
   "attachments": {},
   "cell_type": "markdown",
   "metadata": {},
   "source": [
    "Біноміальний"
   ]
  },
  {
   "cell_type": "code",
   "execution_count": null,
   "metadata": {},
   "outputs": [],
   "source": [
    "def binomial(p, n, k):\n",
    "    q = 1-p\n",
    "    p_n = combination(n, k) * pow(p, k, (n-k))  # k = 0,1,2,..n\n",
    "    return p_n\n"
   ]
  }
 ],
 "metadata": {
  "language_info": {
   "name": "python"
  },
  "orig_nbformat": 4
 },
 "nbformat": 4,
 "nbformat_minor": 2
}
